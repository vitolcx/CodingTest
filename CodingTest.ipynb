{
 "cells": [
  {
   "cell_type": "markdown",
   "id": "cd0d3d64-9399-410d-b101-2d48b616e998",
   "metadata": {},
   "source": [
    "# Content\n",
    "- [Data Preprocessing](#d1)\n",
    "- [Features Construction](#d2)\n",
    "- [Explore the correlation between features](#d3)\n",
    "- [Prediction stock returns with Lasso Regression](#d4)\n",
    "    - [Features Construction](#d5)\n",
    "    - [Lasso CV](#d7)\n",
    "- [Alpha Analysis](#d6)"
   ]
  },
  {
   "cell_type": "code",
   "execution_count": 79,
   "id": "6266ad58-2646-4833-9bda-bcef4bea1629",
   "metadata": {},
   "outputs": [],
   "source": [
    "import pandas as pd\n",
    "import numpy as np\n",
    "from scipy.stats import rankdata\n",
    "from talib import RSI, BBANDS, MACD, ATR, MOM, CMO\n",
    "\n",
    "import warnings\n",
    "warnings.filterwarnings('ignore')"
   ]
  },
  {
   "cell_type": "markdown",
   "id": "928fd739-0e6b-46cd-bf6b-ebe618c72dc6",
   "metadata": {},
   "source": [
    "<a id='d1'></a>\n",
    "# Data Preprocessing"
   ]
  },
  {
   "cell_type": "code",
   "execution_count": 2,
   "id": "9700b2b5-9b1a-4636-a13d-eec5a362aacf",
   "metadata": {},
   "outputs": [],
   "source": [
    "data = pd.read_csv('./data.csv')\n",
    "data.head()\n",
    "data.set_index(pd.to_datetime(data.date), inplace=True)\n",
    "df_last = pd.pivot_table(data, values='last', index=data.index, columns='ticker')\n",
    "df_volume = pd.pivot_table(data, values='volume', index=data.index, columns='ticker')"
   ]
  },
  {
   "cell_type": "code",
   "execution_count": 3,
   "id": "f3f4c1ce-cf3a-476d-a58a-b235913f09f3",
   "metadata": {},
   "outputs": [
    {
     "name": "stdout",
     "output_type": "stream",
     "text": [
      "In Volume Num of tickers with Nan Value: 46\n",
      "In Volume Num of tickers with Nan Value: 46\n"
     ]
    }
   ],
   "source": [
    "# Nan Value \n",
    "x = np.isnan(df_volume).sum()\n",
    "nan_vol_ticker = x[x>0].index\n",
    "print('In Volume Num of tickers with Nan Value:', len(x[x>0]))\n",
    "x = np.isnan(df_last).sum()\n",
    "nan_last_ticker = x[x>0].index\n",
    "print('In Volume Num of tickers with Nan Value:', len(x[x>0]))"
   ]
  },
  {
   "cell_type": "code",
   "execution_count": 4,
   "id": "2a829944-ab78-4986-93d7-6432a5769585",
   "metadata": {},
   "outputs": [
    {
     "data": {
      "text/plain": [
       "array([ True,  True,  True,  True,  True,  True,  True,  True,  True,\n",
       "        True,  True,  True,  True,  True,  True,  True,  True,  True,\n",
       "        True,  True,  True,  True,  True,  True,  True,  True,  True,\n",
       "        True,  True,  True,  True,  True,  True,  True,  True,  True,\n",
       "        True,  True,  True,  True,  True,  True,  True,  True,  True,\n",
       "        True])"
      ]
     },
     "execution_count": 4,
     "metadata": {},
     "output_type": "execute_result"
    }
   ],
   "source": [
    "# check\n",
    "nan_last_ticker == nan_vol_ticker"
   ]
  },
  {
   "cell_type": "markdown",
   "id": "4060b07e-dbb8-4e6a-a473-1d8913ca2035",
   "metadata": {},
   "source": [
    "Because we need to calculate returns so we cannot use the last ticker with Nan values"
   ]
  },
  {
   "cell_type": "code",
   "execution_count": 5,
   "id": "da089732-741f-4c9c-9687-0e6500f9f449",
   "metadata": {},
   "outputs": [],
   "source": [
    "# drop tickers with Nan values\n",
    "df_last.drop(columns=nan_last_ticker, inplace=True)\n",
    "df_volume.drop(columns=nan_vol_ticker, inplace=True)\n",
    "df_ret = df_last.pct_change()"
   ]
  },
  {
   "cell_type": "code",
   "execution_count": 6,
   "id": "f9148ee7-1eb7-426c-85a4-d6a523c9a3bd",
   "metadata": {},
   "outputs": [
    {
     "data": {
      "text/plain": [
       "(2005, 202)"
      ]
     },
     "execution_count": 6,
     "metadata": {},
     "output_type": "execute_result"
    }
   ],
   "source": [
    "df_ret.shape"
   ]
  },
  {
   "cell_type": "markdown",
   "id": "84c500f3-e8d9-4a22-9408-811759ed4078",
   "metadata": {},
   "source": [
    "After the data processing, we can see that the data.csv consists 2005 days and 202 stocks.\n",
    "\n",
    "So I want to construct cross-section features and then make the trading strategies \n",
    "\n",
    "My plan is:\n",
    "1. Single alpha backtesting analysis\n",
    "2. Construct alphas based on `data.csv`\n",
    "3. Use these alphas to predict returns via some methods such as LR, Lasso, Ridge as well as using cross validation\n",
    "4. Alpha analysis"
   ]
  },
  {
   "cell_type": "markdown",
   "id": "e061456a-07ee-4955-ab81-1fd678a3ac13",
   "metadata": {},
   "source": [
    "<a id='d2'></a>\n",
    "# Features Construction"
   ]
  },
  {
   "cell_type": "code",
   "execution_count": 15,
   "id": "75e0b41f-870e-4855-b1be-776b90f748a2",
   "metadata": {},
   "outputs": [],
   "source": [
    "def correlation(x, y, window=10):\n",
    "    return x.rolling(window).corr(y)\n",
    "\n",
    "def ts_rank(df, window=10):\n",
    "    return df.rolling(window).apply(rolling_rank)\n",
    "\n",
    "def ts_max(df, window=10):\n",
    "    return df.rolling(window).max()\n",
    "\n",
    "def rolling_rank(na):\n",
    "    return rankdata(na)[-1]\n",
    "\n",
    "def ts_sum(df, window=10):\n",
    "    return df.rolling(window).sum()\n",
    "\n",
    "def rank(df):\n",
    "    return df.rank(axis=1, pct=True)\n",
    "\n",
    "def delta(df, period=1):\n",
    "    return df.diff(period)\n",
    "\n",
    "# alpha processing on cross-section \n",
    "def mad(factor):\n",
    "    median = np.nanmedian(factor, axis=0, keepdims=True)\n",
    "    mad = np.nanmedian(abs(factor - median), axis=0, keepdims=True)\n",
    "    high = median + (3 * 1.4826 * mad)\n",
    "    low = median - (3 * 1.4826 * mad)\n",
    "    factor = np.where(factor > high, high, factor)\n",
    "    factor = np.where(factor < low, low, factor)\n",
    "    return factor\n",
    "\n",
    "def compute_macd(close):\n",
    "    macd = MACD(close)[0]\n",
    "    return (macd - np.mean(macd))/np.std(macd)\n",
    "\n",
    "def compute_cmo(close):\n",
    "    cmo = CMO(close)\n",
    "    return (cmo - np.mean(cmo))/np.std(cmo)\n",
    "\n",
    "def compute_bb(close):\n",
    "    high, mid, low = BBANDS(close, timeperiod=20)\n",
    "    return pd.DataFrame({'bb_high': high, 'bb_low': low}, index=close.index)\n",
    "\n",
    "def standardize_series(se):\n",
    "    # standarlization\n",
    "    se_std = se.std(axis=0, keepdims=True) \n",
    "    se_mean = se.mean(axis=0, keepdims=True)\n",
    "    return (se - se_mean) / (se_std + 1e-12)\n",
    "\n",
    "def features_process(se):\n",
    "    return standardize_series(mad(se))\n",
    "    \n",
    "class Features(object):\n",
    "    def __init__(self, df_volume, df_last):\n",
    "        self.prices = df_last.stack().to_frame().rename(columns={0:'close'})\n",
    "        self.prices['volume'] = df_volume.stack().rename('volume')\n",
    "        self.close = df_last\n",
    "        self.volume = df_volume\n",
    "        self.returns = df_last.pct_change()\n",
    "        \n",
    "    def prices():\n",
    "        return self.prices\n",
    "    \n",
    "    def alpha1(self):\n",
    "        # Volument-price divergence is a common phenomenon. \n",
    "        # When the stock price rises, the trading volume falls or\n",
    "        # when the stock price falls, the trading volume rises, \n",
    "        # which means that the more full the turnover is, \n",
    "        # the greater the probability of the stock price rising later\n",
    "        df = correlation(ts_rank(self.volume, 5), ts_rank(self.close, 5), 5)\n",
    "        df = df.replace([-np.inf, np.inf], 0).fillna(value=0)\n",
    "        alpha = -1 * ts_max(df, 3)\n",
    "        self.prices['price_vol_corr_1'] = alpha.stack()\n",
    "        \n",
    "    def alpha2(self):\n",
    "        df = correlation(rank(self.close), rank(self.volume), 3)\n",
    "        df = df.replace([-np.inf, np.inf], 0).fillna(value=0)\n",
    "        alpha = -1 * ts_sum(rank(df), 3)\n",
    "        self.prices['price_vol_corr_2'] = alpha.stack()\n",
    "    \n",
    "    def alpha3(self):\n",
    "        rsi = self.prices.groupby(level='ticker').close.apply(RSI)\n",
    "        self.prices['rsi'] = rsi\n",
    "    \n",
    "    def alpha4(self):\n",
    "        self.prices = (self.prices.join(self.prices.groupby(level='ticker').close.apply(compute_bb)))\n",
    "        self.prices['bb_high'] = self.prices.bb_high.sub(self.prices.close).div(self.prices.bb_high).apply(np.log1p)\n",
    "        self.prices['bb_low'] = self.prices.close.sub(self.prices.bb_low).div(self.prices.close).apply(np.log1p)\n",
    "        \n",
    "    def alpha5(self):\n",
    "        self.prices['macd'] = self.prices.groupby('ticker', group_keys=False).close.apply(compute_macd)\n",
    "    \n",
    "    def alpha6(self):\n",
    "        df = -1 * correlation(self.close, self.volume, 10)\n",
    "        alpha =  df.replace([-np.inf, np.inf], 0).fillna(value=0)\n",
    "        self.prices['price_vol_corr_3'] = alpha.stack()\n",
    "        \n",
    "    def alpha7(self):\n",
    "        df = correlation(self.close, self.volume, 10)\n",
    "        df = df.replace([-np.inf, np.inf], 0).fillna(value=0)\n",
    "        alpha = -1 * rank(delta(self.returns, 3)) * df\n",
    "        self.prices['price_vol_corr_4'] = alpha.stack()\n",
    "    \n",
    "    def alpha8(self):\n",
    "        self.prices['cmo'] = (self.prices.groupby('ticker', group_keys=False).close.apply(compute_cmo))\n",
    "        \n",
    "    def compute_Lagged_Returns(self):\n",
    "        # Momentum is very obvious in almost all assets\n",
    "        # I construct different kinds of momentum factors\n",
    "        lags = [1, 5, 10, 21, 42, 63]\n",
    "        q = 0.0001\n",
    "        for lag in lags:\n",
    "            self.prices[f'return_{lag}d'] = (self.prices.groupby(level='ticker').close.pct_change(lag).\n",
    "                                             pipe(lambda x: x.clip(lower=x.quantile(q),upper=x.quantile(1 - q)))\n",
    "                                             .add(1).pow(1 / lag).sub(1))\n",
    "    \n",
    "    def Shift_lagged_returns(self):\n",
    "        for t in [1, 2, 3, 4, 5]:\n",
    "            for lag in [1, 5, 10, 21]:\n",
    "                self.prices[f'return_{lag}d_lag{t}'] = (self.prices.groupby(level='ticker')[f'return_{lag}d'].shift(t * lag))\n",
    "    \n",
    "    def compute_forward_returns(self):\n",
    "        # construct predicting target for lasso regression\n",
    "        for t in [1, 5, 10, 21]:\n",
    "            self.prices[f'target_{t}d'] = self.prices.groupby(level='ticker')[f'return_{t}d'].shift(-t)\n",
    "    \n",
    "    def dummy(self):\n",
    "        # construct year and month into dummy features\n",
    "        self.prices['month'] = self.prices.index.get_level_values('date').month\n",
    "        self.prices = pd.get_dummies(self.prices, columns=['month'], prefix=['month'],\n",
    "                                     prefix_sep=['_'], drop_first=True)\n",
    "        "
   ]
  },
  {
   "cell_type": "code",
   "execution_count": 16,
   "id": "a76fc229-7c5a-408d-b487-f32c1140e6a6",
   "metadata": {},
   "outputs": [],
   "source": [
    "features = Features(df_volume, df_last)\n",
    "features.alpha1()\n",
    "features.alpha2()\n",
    "features.alpha3()\n",
    "features.alpha4()\n",
    "features.alpha5()\n",
    "features.alpha6()\n",
    "features.alpha7()\n",
    "features.alpha8()\n",
    "features.compute_Lagged_Returns()\n",
    "features.Shift_lagged_returns()\n",
    "features.compute_forward_returns()\n",
    "features.dummy()"
   ]
  },
  {
   "cell_type": "code",
   "execution_count": 17,
   "id": "14dd33f0-fd97-46cb-af27-c357282f1930",
   "metadata": {},
   "outputs": [
    {
     "name": "stdout",
     "output_type": "stream",
     "text": [
      "<class 'pandas.core.frame.DataFrame'>\n",
      "MultiIndex: 405010 entries, (Timestamp('2013-01-04 00:00:00'), '1332 JT') to (Timestamp('2021-03-19 00:00:00'), '9984 JT')\n",
      "Data columns (total 52 columns):\n",
      " #   Column            Non-Null Count   Dtype  \n",
      "---  ------            --------------   -----  \n",
      " 0   close             405010 non-null  float64\n",
      " 1   volume            405010 non-null  float64\n",
      " 2   price_vol_corr_1  404606 non-null  float64\n",
      " 3   price_vol_corr_2  404606 non-null  float64\n",
      " 4   rsi               402182 non-null  float64\n",
      " 5   bb_high           401172 non-null  float64\n",
      " 6   bb_low            401172 non-null  float64\n",
      " 7   macd              398344 non-null  float64\n",
      " 8   price_vol_corr_3  405010 non-null  float64\n",
      " 9   price_vol_corr_4  404202 non-null  float64\n",
      " 10  cmo               402182 non-null  float64\n",
      " 11  return_1d         404808 non-null  float64\n",
      " 12  return_5d         404000 non-null  float64\n",
      " 13  return_10d        402990 non-null  float64\n",
      " 14  return_21d        400768 non-null  float64\n",
      " 15  return_42d        396526 non-null  float64\n",
      " 16  return_63d        392284 non-null  float64\n",
      " 17  return_1d_lag1    404606 non-null  float64\n",
      " 18  return_5d_lag1    402990 non-null  float64\n",
      " 19  return_10d_lag1   400970 non-null  float64\n",
      " 20  return_21d_lag1   396526 non-null  float64\n",
      " 21  return_1d_lag2    404404 non-null  float64\n",
      " 22  return_5d_lag2    401980 non-null  float64\n",
      " 23  return_10d_lag2   398950 non-null  float64\n",
      " 24  return_21d_lag2   392284 non-null  float64\n",
      " 25  return_1d_lag3    404202 non-null  float64\n",
      " 26  return_5d_lag3    400970 non-null  float64\n",
      " 27  return_10d_lag3   396930 non-null  float64\n",
      " 28  return_21d_lag3   388042 non-null  float64\n",
      " 29  return_1d_lag4    404000 non-null  float64\n",
      " 30  return_5d_lag4    399960 non-null  float64\n",
      " 31  return_10d_lag4   394910 non-null  float64\n",
      " 32  return_21d_lag4   383800 non-null  float64\n",
      " 33  return_1d_lag5    403798 non-null  float64\n",
      " 34  return_5d_lag5    398950 non-null  float64\n",
      " 35  return_10d_lag5   392890 non-null  float64\n",
      " 36  return_21d_lag5   379558 non-null  float64\n",
      " 37  target_1d         404808 non-null  float64\n",
      " 38  target_5d         404000 non-null  float64\n",
      " 39  target_10d        402990 non-null  float64\n",
      " 40  target_21d        400768 non-null  float64\n",
      " 41  month_2           405010 non-null  uint8  \n",
      " 42  month_3           405010 non-null  uint8  \n",
      " 43  month_4           405010 non-null  uint8  \n",
      " 44  month_5           405010 non-null  uint8  \n",
      " 45  month_6           405010 non-null  uint8  \n",
      " 46  month_7           405010 non-null  uint8  \n",
      " 47  month_8           405010 non-null  uint8  \n",
      " 48  month_9           405010 non-null  uint8  \n",
      " 49  month_10          405010 non-null  uint8  \n",
      " 50  month_11          405010 non-null  uint8  \n",
      " 51  month_12          405010 non-null  uint8  \n",
      "dtypes: float64(41), uint8(11)\n",
      "memory usage: 148.7+ MB\n"
     ]
    }
   ],
   "source": [
    "features.prices.info(null_counts=True)"
   ]
  },
  {
   "cell_type": "markdown",
   "id": "3d26eed5-43ec-4adf-9ccf-d8cd6768be64",
   "metadata": {},
   "source": [
    "<a id='d3'></a>\n",
    "# Explore the correlation between features"
   ]
  },
  {
   "cell_type": "code",
   "execution_count": 18,
   "id": "7bf78c04-df1c-4af5-b18d-8bfb3ff19ac7",
   "metadata": {},
   "outputs": [],
   "source": [
    "data = features.prices\n",
    "y = data.filter(like='target')\n",
    "X = data.drop(y.columns, axis=1)\n",
    "X = X.drop(['volume', 'close'], axis=1)"
   ]
  },
  {
   "cell_type": "code",
   "execution_count": 19,
   "id": "a89b91ac-bcb8-45c5-9f43-b96864988df9",
   "metadata": {},
   "outputs": [
    {
     "data": {
      "image/png": "[encoded data removed]",
      "text/plain": [
       "<Figure size 1008x1008 with 4 Axes>"
      ]
     },
     "metadata": {
      "needs_background": "light"
     },
     "output_type": "display_data"
    }
   ],
   "source": [
    "import seaborn as sns\n",
    "import matplotlib.pyplot as plt\n",
    "\n",
    "sns.clustermap(X.corr(), cmap=sns.diverging_palette(h_neg=20, h_pos=220), center=0);\n",
    "plt.gcf().set_size_inches((14, 14))"
   ]
  },
  {
   "cell_type": "code",
   "execution_count": 20,
   "id": "5e5d8925-08b2-4828-99f1-eaa41363ee95",
   "metadata": {},
   "outputs": [
    {
     "data": {
      "image/png": "[encoded data removed]",
      "text/plain": [
       "<Figure size 720x720 with 4 Axes>"
      ]
     },
     "metadata": {
      "needs_background": "light"
     },
     "output_type": "display_data"
    }
   ],
   "source": [
    "sns.clustermap(y.corr(), cmap=sns.diverging_palette(h_neg=20, h_pos=220), center=0, annot=True, fmt='.2%');"
   ]
  },
  {
   "cell_type": "code",
   "execution_count": 21,
   "id": "75b964a1-4d91-4803-9597-8f24009c308b",
   "metadata": {},
   "outputs": [
    {
     "data": {
      "text/html": [
       "<div>\n",
       "<style scoped>\n",
       "    .dataframe tbody tr th:only-of-type {\n",
       "        vertical-align: middle;\n",
       "    }\n",
       "\n",
       "    .dataframe tbody tr th {\n",
       "        vertical-align: top;\n",
       "    }\n",
       "\n",
       "    .dataframe thead th {\n",
       "        text-align: right;\n",
       "    }\n",
       "</style>\n",
       "<table border=\"1\" class=\"dataframe\">\n",
       "  <thead>\n",
       "    <tr style=\"text-align: right;\">\n",
       "      <th></th>\n",
       "      <th>var1</th>\n",
       "      <th>var2</th>\n",
       "      <th>corr</th>\n",
       "    </tr>\n",
       "  </thead>\n",
       "  <tbody>\n",
       "    <tr>\n",
       "      <th>370</th>\n",
       "      <td>cmo</td>\n",
       "      <td>rsi</td>\n",
       "      <td>0.993449</td>\n",
       "    </tr>\n",
       "    <tr>\n",
       "      <th>100</th>\n",
       "      <td>rsi</td>\n",
       "      <td>cmo</td>\n",
       "      <td>0.993449</td>\n",
       "    </tr>\n",
       "    <tr>\n",
       "      <th>283</th>\n",
       "      <td>price_vol_corr_3</td>\n",
       "      <td>price_vol_corr_4</td>\n",
       "      <td>0.859307</td>\n",
       "    </tr>\n",
       "    <tr>\n",
       "      <th>328</th>\n",
       "      <td>price_vol_corr_4</td>\n",
       "      <td>price_vol_corr_3</td>\n",
       "      <td>0.859307</td>\n",
       "    </tr>\n",
       "    <tr>\n",
       "      <th>557</th>\n",
       "      <td>return_21d</td>\n",
       "      <td>macd</td>\n",
       "      <td>0.836400</td>\n",
       "    </tr>\n",
       "    <tr>\n",
       "      <th>509</th>\n",
       "      <td>return_10d</td>\n",
       "      <td>bb_high</td>\n",
       "      <td>-0.757048</td>\n",
       "    </tr>\n",
       "    <tr>\n",
       "      <th>146</th>\n",
       "      <td>bb_high</td>\n",
       "      <td>cmo</td>\n",
       "      <td>-0.758412</td>\n",
       "    </tr>\n",
       "    <tr>\n",
       "      <th>371</th>\n",
       "      <td>cmo</td>\n",
       "      <td>bb_high</td>\n",
       "      <td>-0.758412</td>\n",
       "    </tr>\n",
       "    <tr>\n",
       "      <th>140</th>\n",
       "      <td>bb_high</td>\n",
       "      <td>rsi</td>\n",
       "      <td>-0.767081</td>\n",
       "    </tr>\n",
       "    <tr>\n",
       "      <th>95</th>\n",
       "      <td>rsi</td>\n",
       "      <td>bb_high</td>\n",
       "      <td>-0.767081</td>\n",
       "    </tr>\n",
       "  </tbody>\n",
       "</table>\n",
       "</div>"
      ],
      "text/plain": [
       "                 var1              var2      corr\n",
       "370               cmo               rsi  0.993449\n",
       "100               rsi               cmo  0.993449\n",
       "283  price_vol_corr_3  price_vol_corr_4  0.859307\n",
       "328  price_vol_corr_4  price_vol_corr_3  0.859307\n",
       "557        return_21d              macd  0.836400\n",
       "509        return_10d           bb_high -0.757048\n",
       "146           bb_high               cmo -0.758412\n",
       "371               cmo           bb_high -0.758412\n",
       "140           bb_high               rsi -0.767081\n",
       "95                rsi           bb_high -0.767081"
      ]
     },
     "execution_count": 21,
     "metadata": {},
     "output_type": "execute_result"
    }
   ],
   "source": [
    "corr_mat = X.corr().stack().reset_index()\n",
    "corr_mat.columns=['var1', 'var2', 'corr']\n",
    "corr_mat = corr_mat[corr_mat.var1 != corr_mat.var2].sort_values(by='corr', ascending=False)\n",
    "corr_mat.head().append(corr_mat.tail())"
   ]
  },
  {
   "cell_type": "markdown",
   "id": "9b9f3409-9a1f-4155-aaaa-a9ff912e582d",
   "metadata": {},
   "source": [
    "So we can see that these exists high correlation between the features that I constructed, so I would like to use Lasso Regression to predict returns as well as feature shrinking."
   ]
  },
  {
   "cell_type": "markdown",
   "id": "ba127c17-627e-40a6-a043-bc57ffe97ed1",
   "metadata": {},
   "source": [
    "<a id='d4'></a>\n",
    "# Prediction stock returns with Lasso Regression"
   ]
  },
  {
   "cell_type": "markdown",
   "id": "b86774f2-03ef-482a-ac7e-b78af628f15f",
   "metadata": {},
   "source": [
    "<a id='d7'></a>\n",
    "## Lasso CV"
   ]
  },
  {
   "cell_type": "code",
   "execution_count": 96,
   "id": "be2c24c3-385b-47c0-8e14-fa0722014f7a",
   "metadata": {},
   "outputs": [],
   "source": [
    "%matplotlib inline\n",
    "\n",
    "import pandas as pd\n",
    "import numpy as np\n",
    "from scipy.stats import spearmanr\n",
    "\n",
    "from sklearn.metrics import mean_squared_error\n",
    "from sklearn.preprocessing import StandardScaler\n",
    "from sklearn.linear_model import Lasso\n",
    "from sklearn.pipeline import Pipeline\n",
    "\n",
    "import seaborn as sns\n",
    "import matplotlib.pyplot as plt\n",
    "from matplotlib.ticker import FuncFormatter"
   ]
  },
  {
   "cell_type": "code",
   "execution_count": 23,
   "id": "8543b39c-1d9a-4ec8-9de7-303191224237",
   "metadata": {},
   "outputs": [],
   "source": [
    "sns.set_style('darkgrid')\n",
    "idx = pd.IndexSlice\n",
    "YEAR = 252"
   ]
  },
  {
   "cell_type": "code",
   "execution_count": 24,
   "id": "70cc58ad-5cd8-46b2-8400-2634150f0073",
   "metadata": {},
   "outputs": [],
   "source": [
    "# Custom MultipleTimeSeriesCV\n",
    "class MultipleTimeSeriesCV:\n",
    "    def __init__(self, n_splits, train_period_length, test_period_length, lookahead=None, shuffle=False):\n",
    "        self.n_splits = n_splits\n",
    "        self.lookahead = lookahead\n",
    "        self.test_length = test_period_length\n",
    "        self.train_length = train_period_length\n",
    "        self.shuffle = shuffle\n",
    "\n",
    "    def split(self, X, y=None, groups=None):\n",
    "        unique_dates = X.index.get_level_values('date').unique()\n",
    "        days = sorted(unique_dates, reverse=True)\n",
    "\n",
    "        split_idx = []\n",
    "        for i in range(self.n_splits):\n",
    "            test_end_idx = i * self.test_length\n",
    "            test_start_idx = test_end_idx + self.test_length\n",
    "            train_end_idx = test_start_idx + self.lookahead - 1\n",
    "            train_start_idx = train_end_idx + self.train_length + self.lookahead - 1\n",
    "            split_idx.append([train_start_idx, train_end_idx,\n",
    "                              test_start_idx, test_end_idx])\n",
    "        dates = X.reset_index()[['date']]\n",
    "        for train_start, train_end, test_start, test_end in split_idx:\n",
    "            train_idx = dates[(dates.date > days[train_start])\n",
    "                              & (dates.date <= days[train_end])].index\n",
    "            test_idx = dates[(dates.date > days[test_start])\n",
    "                             & (dates.date <= days[test_end])].index\n",
    "            if self.shuffle:\n",
    "                np.random.shuffle(list(train_idx))\n",
    "            yield train_idx, test_idx\n",
    "\n",
    "    def get_n_splits(self, X, y, groups=None):\n",
    "        return self.n_splits"
   ]
  },
  {
   "cell_type": "code",
   "execution_count": 25,
   "id": "1f9e5f05-2d76-4c39-96d4-40945eb6898f",
   "metadata": {},
   "outputs": [],
   "source": [
    "# Verify that it works\n",
    "# Use the past 3 months data to predict the next ten days\n",
    "train_period_length = 63 \n",
    "test_period_length = 10\n",
    "n_splits = int(4*YEAR/(test_period_length))\n",
    "lookahead =1 \n",
    "cv = MultipleTimeSeriesCV(n_splits=n_splits, test_period_length=test_period_length, \n",
    "                          lookahead=lookahead, train_period_length=train_period_length)"
   ]
  },
  {
   "cell_type": "code",
   "execution_count": 26,
   "id": "c4c6a84a-183c-49bb-9ebf-458966f61e03",
   "metadata": {},
   "outputs": [
    {
     "name": "stdout",
     "output_type": "stream",
     "text": [
      "63 2020-12-02 2021-03-05 10 2021-03-08 2021-03-19\n",
      "63 2020-11-17 2021-02-18 10 2021-02-19 2021-03-05\n",
      "63 2020-11-02 2021-02-03 10 2021-02-04 2021-02-18\n",
      "63 2020-10-19 2021-01-20 10 2021-01-21 2021-02-03\n",
      "63 2020-10-05 2021-01-05 10 2021-01-06 2021-01-20\n",
      "63 2020-09-16 2020-12-18 10 2020-12-21 2021-01-05\n",
      "63 2020-09-02 2020-12-04 10 2020-12-07 2020-12-18\n",
      "63 2020-08-19 2020-11-19 10 2020-11-20 2020-12-04\n",
      "63 2020-08-04 2020-11-05 10 2020-11-06 2020-11-19\n",
      "63 2020-07-17 2020-10-21 10 2020-10-22 2020-11-05\n",
      "63 2020-07-03 2020-10-07 10 2020-10-08 2020-10-21\n"
     ]
    }
   ],
   "source": [
    "i = 0\n",
    "for train_idx, test_idx in cv.split(X=data):\n",
    "    train = data.iloc[train_idx]\n",
    "    train_dates = train.index.get_level_values('date')\n",
    "    test = data.iloc[test_idx]\n",
    "    test_dates = test.index.get_level_values('date')\n",
    "    df = train.reset_index().append(test.reset_index())\n",
    "    n = len(df)\n",
    "    assert n == len(df.drop_duplicates())\n",
    "    print(train.groupby(level='ticker').size().value_counts().index[0],\n",
    "          train_dates.min().date(), train_dates.max().date(),\n",
    "          test.groupby(level='ticker').size().value_counts().index[0],\n",
    "          test_dates.min().date(), test_dates.max().date())\n",
    "    i += 1\n",
    "    if i > 10:\n",
    "        break"
   ]
  },
  {
   "cell_type": "code",
   "execution_count": 86,
   "id": "248266d2-f735-4737-adcb-7c031e33b9da",
   "metadata": {},
   "outputs": [],
   "source": [
    "#Define cross-validation parameters\n",
    "lasso_alphas = np.logspace(-7, -4, 4)\n",
    "\n",
    "n_splits = int(3*YEAR/test_period_length)\n",
    "train_period_length = 63\n",
    "test_period_length = 10\n",
    "lookahead = 1\n",
    "target = f'target_{lookahead}d'\n",
    "\n",
    "cv = MultipleTimeSeriesCV(n_splits=n_splits, test_period_length=test_period_length, \n",
    "                          lookahead=lookahead, train_period_length=train_period_length)"
   ]
  },
  {
   "cell_type": "code",
   "execution_count": 28,
   "id": "d598e4b4-7824-4cb7-b31f-140c6f76ce11",
   "metadata": {},
   "outputs": [
    {
     "name": "stdout",
     "output_type": "stream",
     "text": [
      "(405010, 46)\n"
     ]
    }
   ],
   "source": [
    "np.isnan(X).sum() / X.shape[0]\n",
    "print(X.shape)"
   ]
  },
  {
   "cell_type": "code",
   "execution_count": 29,
   "id": "2407009d-4d55-4c5a-8c3d-522d5b23fe5d",
   "metadata": {},
   "outputs": [
    {
     "name": "stdout",
     "output_type": "stream",
     "text": [
      "(379558, 46)\n"
     ]
    }
   ],
   "source": [
    "# X.groupby(level='date').apply(lambda x: x.fillna(x.mean(skipna=True)))\n",
    "X.dropna(inplace=True)\n",
    "print(X.shape)"
   ]
  },
  {
   "cell_type": "code",
   "execution_count": 87,
   "id": "c47757f9-8a49-47fb-b7a3-bc638c7828fd",
   "metadata": {},
   "outputs": [
    {
     "name": "stdout",
     "output_type": "stream",
     "text": [
      "1e-07 1e-06 1e-05 0.0001 CPU times: total: 5min 30s\n",
      "Wall time: 4min 27s\n"
     ]
    }
   ],
   "source": [
    "%%time\n",
    "lasso_coeffs, lasso_scores, lasso_predictions = {}, [], []\n",
    "for alpha in lasso_alphas:\n",
    "    print(alpha, end=' ', flush=True)\n",
    "    model = Lasso(alpha=alpha, fit_intercept=False, random_state=42, tol=1e-3, max_iter=200, warm_start=True, selection='random')\n",
    "    pipe = Pipeline([('scaler', StandardScaler()), ('model', model)])\n",
    "    coeffs = []\n",
    "    for i, (train_idx, test_idx) in enumerate(cv.split(X), 1):\n",
    "        t = time()\n",
    "        X_train, y_train, = X.iloc[train_idx], y[target].iloc[train_idx]\n",
    "        X_test, y_test = X.iloc[test_idx], y[target].iloc[test_idx]\n",
    "        pipe.fit(X=X_train, y=y_train)\n",
    "        y_pred = pipe.predict(X_test)\n",
    "        preds = y_test.to_frame('actuals').assign(predicted=y_pred)\n",
    "        preds_by_day = preds.groupby(level='date')\n",
    "        scores = pd.concat([preds_by_day.apply(lambda x: spearmanr(x.predicted,x.actuals)[0] * 100).to_frame('ic'),\n",
    "                            preds_by_day.apply(lambda x: np.sqrt(mean_squared_error(y_pred=x.predicted, y_true=x.actuals))).to_frame('rmse')],axis=1)\n",
    "        lasso_scores.append(scores.assign(alpha=alpha))\n",
    "        lasso_predictions.append(preds.assign(alpha=alpha))\n",
    "        coeffs.append(pipe.named_steps['model'].coef_)\n",
    "    lasso_coeffs[alpha] = np.mean(coeffs, axis=0)"
   ]
  },
  {
   "cell_type": "code",
   "execution_count": 88,
   "id": "6937fa03-54db-4129-9cbd-b52178c62f56",
   "metadata": {},
   "outputs": [
    {
     "name": "stdout",
     "output_type": "stream",
     "text": [
      "Information Coefficient (overall): 11.221% (p-value: 0.0000%)\n"
     ]
    }
   ],
   "source": [
    "lasso_scores = pd.concat(lasso_scores)\n",
    "lasso_coeffs = pd.DataFrame(lasso_coeffs, index=X.columns).T\n",
    "lasso_predictions = pd.concat(lasso_predictions)\n",
    "best_alpha = lasso_scores.groupby('alpha').ic.mean().idxmax()\n",
    "preds = lasso_predictions[lasso_predictions.alpha==best_alpha]\n",
    "lasso_r, lasso_p = spearmanr(preds.actuals, preds.predicted)\n",
    "print(f'Information Coefficient (overall): {lasso_r:.3%} (p-value: {lasso_p:.4%})')"
   ]
  },
  {
   "cell_type": "code",
   "execution_count": 89,
   "id": "e06c8779-e9e6-45ae-85d1-c0ac16c62f1a",
   "metadata": {},
   "outputs": [
    {
     "data": {
      "text/html": [
       "<div>\n",
       "<style scoped>\n",
       "    .dataframe tbody tr th:only-of-type {\n",
       "        vertical-align: middle;\n",
       "    }\n",
       "\n",
       "    .dataframe tbody tr th {\n",
       "        vertical-align: top;\n",
       "    }\n",
       "\n",
       "    .dataframe thead th {\n",
       "        text-align: right;\n",
       "    }\n",
       "</style>\n",
       "<table border=\"1\" class=\"dataframe\">\n",
       "  <thead>\n",
       "    <tr style=\"text-align: right;\">\n",
       "      <th></th>\n",
       "      <th>mean</th>\n",
       "      <th>median</th>\n",
       "    </tr>\n",
       "    <tr>\n",
       "      <th>alpha</th>\n",
       "      <th></th>\n",
       "      <th></th>\n",
       "    </tr>\n",
       "  </thead>\n",
       "  <tbody>\n",
       "    <tr>\n",
       "      <th>1.000000e-07</th>\n",
       "      <td>14.347701</td>\n",
       "      <td>15.094241</td>\n",
       "    </tr>\n",
       "    <tr>\n",
       "      <th>1.000000e-06</th>\n",
       "      <td>14.367212</td>\n",
       "      <td>15.126738</td>\n",
       "    </tr>\n",
       "    <tr>\n",
       "      <th>1.000000e-05</th>\n",
       "      <td>14.475653</td>\n",
       "      <td>15.089127</td>\n",
       "    </tr>\n",
       "    <tr>\n",
       "      <th>1.000000e-04</th>\n",
       "      <td>15.176549</td>\n",
       "      <td>16.341329</td>\n",
       "    </tr>\n",
       "  </tbody>\n",
       "</table>\n",
       "</div>"
      ],
      "text/plain": [
       "                   mean     median\n",
       "alpha                             \n",
       "1.000000e-07  14.347701  15.094241\n",
       "1.000000e-06  14.367212  15.126738\n",
       "1.000000e-05  14.475653  15.089127\n",
       "1.000000e-04  15.176549  16.341329"
      ]
     },
     "execution_count": 89,
     "metadata": {},
     "output_type": "execute_result"
    }
   ],
   "source": [
    "lasso_scores.groupby('alpha').ic.agg(['mean', 'median'])"
   ]
  },
  {
   "cell_type": "markdown",
   "id": "9d36ef62-c9a2-4114-9414-56d003796a81",
   "metadata": {},
   "source": [
    "<a id='d5'></a>\n",
    "## Lasso IC Distribution and Top 10 Features"
   ]
  },
  {
   "cell_type": "code",
   "execution_count": 90,
   "id": "34a82b1d-4dd6-48f7-af95-1affa1f8d1ef",
   "metadata": {},
   "outputs": [],
   "source": [
    "def plot_ic_distribution(df, ax=None):\n",
    "    if ax is not None:\n",
    "        sns.distplot(df.ic, ax=ax)\n",
    "    else:\n",
    "        ax = sns.distplot(df.ic)\n",
    "    mean, median = df.ic.mean(), df.ic.median()\n",
    "    ax.axvline(0, lw=1, ls='--', c='k')\n",
    "    ax.text(x=.05, y=.9, s=f'Mean: {mean:8.2f}\\nMedian: {median:5.2f}', horizontalalignment='left',\n",
    "            verticalalignment='center', transform=ax.transAxes)\n",
    "    ax.set_xlabel('Information Coefficient')\n",
    "    sns.despine()\n",
    "    plt.tight_layout()"
   ]
  },
  {
   "cell_type": "code",
   "execution_count": 91,
   "id": "e089c693-a04d-4acf-ab4f-ee41e80f4155",
   "metadata": {},
   "outputs": [
    {
     "data": {
      "image/png": "[encoded data removed]",
      "text/plain": [
       "<Figure size 1080x360 with 2 Axes>"
      ]
     },
     "metadata": {},
     "output_type": "display_data"
    }
   ],
   "source": [
    "best_alpha = lasso_scores.groupby('alpha').ic.mean().idxmax()\n",
    "fig, axes = plt.subplots(ncols=2, figsize=(15, 5))\n",
    "plot_ic_distribution(lasso_scores[lasso_scores.alpha==best_alpha], ax=axes[0])\n",
    "axes[0].set_title('Daily Information Coefficients')\n",
    "\n",
    "top_coeffs = lasso_coeffs.loc[best_alpha].abs().sort_values(ascending=False).head(10).index\n",
    "top_coeffs.tolist()\n",
    "lasso_coeffs.loc[best_alpha, top_coeffs].sort_values().plot.barh(ax=axes[1], title='Top 10 Coefficients')\n",
    "\n",
    "sns.despine()\n",
    "fig.tight_layout()"
   ]
  },
  {
   "cell_type": "code",
   "execution_count": null,
   "id": "619cbca3-d762-4f1a-a577-611a3f2c7de8",
   "metadata": {},
   "outputs": [],
   "source": []
  },
  {
   "cell_type": "markdown",
   "id": "601ad469-076e-49f3-83f7-cfaaea3c1bda",
   "metadata": {},
   "source": [
    "<a id='d6'></a>\n",
    "# Alpha Analysis"
   ]
  },
  {
   "cell_type": "code",
   "execution_count": 92,
   "id": "8b4a3203-3419-4150-ae4d-7ed10f95a2f0",
   "metadata": {},
   "outputs": [],
   "source": [
    "from alphalens.utils import get_clean_factor_and_forward_returns\n",
    "from alphalens.tears import create_summary_tear_sheet\n",
    "idx = pd.IndexSlice"
   ]
  },
  {
   "cell_type": "code",
   "execution_count": 93,
   "id": "56eec3e2-67bf-4420-a11f-d9f80b4f671f",
   "metadata": {},
   "outputs": [],
   "source": [
    "def get_best_alpha(scores):\n",
    "    return scores.groupby('alpha').ic.mean().idxmax()\n",
    "\n",
    "def get_factor(predictions):\n",
    "    return (predictions.unstack('ticker').dropna(how='all').stack().tz_localize('UTC', level='date').sort_index())    "
   ]
  },
  {
   "cell_type": "code",
   "execution_count": 94,
   "id": "65ef78d8-1b55-46cc-8a89-ef24bf335025",
   "metadata": {},
   "outputs": [
    {
     "data": {
      "text/plain": [
       "date                       ticker \n",
       "2017-08-14 00:00:00+00:00  1332 JT   -0.002860\n",
       "                           1605 JT   -0.001718\n",
       "                           1721 JT   -0.000696\n",
       "                           1801 JT    0.002762\n",
       "                           1802 JT   -0.000461\n",
       "dtype: float64"
      ]
     },
     "execution_count": 94,
     "metadata": {},
     "output_type": "execute_result"
    }
   ],
   "source": [
    "lasso_scores_reset = lasso_scores.reset_index()\n",
    "best_lasso_alpha = get_best_alpha(lasso_scores_reset)\n",
    "lasso_predictions = lasso_predictions[lasso_predictions.alpha==best_lasso_alpha]\n",
    "lasso_predictions_select = lasso_predictions.drop('alpha', axis=1)\n",
    "lasso_factor = get_factor(lasso_predictions_select.predicted.swaplevel())\n",
    "lasso_factor.head()"
   ]
  },
  {
   "cell_type": "code",
   "execution_count": 95,
   "id": "6015380a-a5d7-4412-a5a3-22a671fc9c3e",
   "metadata": {},
   "outputs": [
    {
     "name": "stdout",
     "output_type": "stream",
     "text": [
      "Dropped 0.0% entries from factor data: 0.0% in forward returns computation and 0.0% in binning phase (set max_loss=0 to see potentially suppressed Exceptions).\n",
      "max_loss is 35.0%, not exceeded: OK!\n",
      "Quantiles Statistics\n"
     ]
    },
    {
     "data": {
      "text/html": [
       "<div>\n",
       "<style scoped>\n",
       "    .dataframe tbody tr th:only-of-type {\n",
       "        vertical-align: middle;\n",
       "    }\n",
       "\n",
       "    .dataframe tbody tr th {\n",
       "        vertical-align: top;\n",
       "    }\n",
       "\n",
       "    .dataframe thead th {\n",
       "        text-align: right;\n",
       "    }\n",
       "</style>\n",
       "<table border=\"1\" class=\"dataframe\">\n",
       "  <thead>\n",
       "    <tr style=\"text-align: right;\">\n",
       "      <th></th>\n",
       "      <th>min</th>\n",
       "      <th>max</th>\n",
       "      <th>mean</th>\n",
       "      <th>std</th>\n",
       "      <th>count</th>\n",
       "      <th>count %</th>\n",
       "    </tr>\n",
       "    <tr>\n",
       "      <th>factor_quantile</th>\n",
       "      <th></th>\n",
       "      <th></th>\n",
       "      <th></th>\n",
       "      <th></th>\n",
       "      <th></th>\n",
       "      <th></th>\n",
       "    </tr>\n",
       "  </thead>\n",
       "  <tbody>\n",
       "    <tr>\n",
       "      <th>1</th>\n",
       "      <td>-0.046634</td>\n",
       "      <td>0.015887</td>\n",
       "      <td>-0.006348</td>\n",
       "      <td>0.006258</td>\n",
       "      <td>30750</td>\n",
       "      <td>20.29703</td>\n",
       "    </tr>\n",
       "    <tr>\n",
       "      <th>2</th>\n",
       "      <td>-0.022678</td>\n",
       "      <td>0.020698</td>\n",
       "      <td>-0.002411</td>\n",
       "      <td>0.005219</td>\n",
       "      <td>30000</td>\n",
       "      <td>19.80198</td>\n",
       "    </tr>\n",
       "    <tr>\n",
       "      <th>3</th>\n",
       "      <td>-0.019572</td>\n",
       "      <td>0.024606</td>\n",
       "      <td>-0.000302</td>\n",
       "      <td>0.005154</td>\n",
       "      <td>30000</td>\n",
       "      <td>19.80198</td>\n",
       "    </tr>\n",
       "    <tr>\n",
       "      <th>4</th>\n",
       "      <td>-0.017209</td>\n",
       "      <td>0.029503</td>\n",
       "      <td>0.001811</td>\n",
       "      <td>0.005273</td>\n",
       "      <td>30000</td>\n",
       "      <td>19.80198</td>\n",
       "    </tr>\n",
       "    <tr>\n",
       "      <th>5</th>\n",
       "      <td>-0.013780</td>\n",
       "      <td>0.050407</td>\n",
       "      <td>0.005821</td>\n",
       "      <td>0.006422</td>\n",
       "      <td>30750</td>\n",
       "      <td>20.29703</td>\n",
       "    </tr>\n",
       "  </tbody>\n",
       "</table>\n",
       "</div>"
      ],
      "text/plain": [
       "                      min       max      mean       std  count   count %\n",
       "factor_quantile                                                         \n",
       "1               -0.046634  0.015887 -0.006348  0.006258  30750  20.29703\n",
       "2               -0.022678  0.020698 -0.002411  0.005219  30000  19.80198\n",
       "3               -0.019572  0.024606 -0.000302  0.005154  30000  19.80198\n",
       "4               -0.017209  0.029503  0.001811  0.005273  30000  19.80198\n",
       "5               -0.013780  0.050407  0.005821  0.006422  30750  20.29703"
      ]
     },
     "metadata": {},
     "output_type": "display_data"
    },
    {
     "name": "stdout",
     "output_type": "stream",
     "text": [
      "Returns Analysis\n"
     ]
    },
    {
     "data": {
      "text/html": [
       "<div>\n",
       "<style scoped>\n",
       "    .dataframe tbody tr th:only-of-type {\n",
       "        vertical-align: middle;\n",
       "    }\n",
       "\n",
       "    .dataframe tbody tr th {\n",
       "        vertical-align: top;\n",
       "    }\n",
       "\n",
       "    .dataframe thead th {\n",
       "        text-align: right;\n",
       "    }\n",
       "</style>\n",
       "<table border=\"1\" class=\"dataframe\">\n",
       "  <thead>\n",
       "    <tr style=\"text-align: right;\">\n",
       "      <th></th>\n",
       "      <th>1D</th>\n",
       "      <th>5D</th>\n",
       "      <th>10D</th>\n",
       "      <th>21D</th>\n",
       "    </tr>\n",
       "  </thead>\n",
       "  <tbody>\n",
       "    <tr>\n",
       "      <th>Ann. alpha</th>\n",
       "      <td>1.331</td>\n",
       "      <td>1.285</td>\n",
       "      <td>1.302</td>\n",
       "      <td>1.294</td>\n",
       "    </tr>\n",
       "    <tr>\n",
       "      <th>beta</th>\n",
       "      <td>0.019</td>\n",
       "      <td>-0.012</td>\n",
       "      <td>-0.048</td>\n",
       "      <td>-0.072</td>\n",
       "    </tr>\n",
       "    <tr>\n",
       "      <th>Mean Period Wise Return Top Quantile (bps)</th>\n",
       "      <td>34.607</td>\n",
       "      <td>34.331</td>\n",
       "      <td>34.611</td>\n",
       "      <td>34.830</td>\n",
       "    </tr>\n",
       "    <tr>\n",
       "      <th>Mean Period Wise Return Bottom Quantile (bps)</th>\n",
       "      <td>-35.210</td>\n",
       "      <td>-33.878</td>\n",
       "      <td>-34.723</td>\n",
       "      <td>-35.133</td>\n",
       "    </tr>\n",
       "    <tr>\n",
       "      <th>Mean Period Wise Spread (bps)</th>\n",
       "      <td>69.817</td>\n",
       "      <td>68.220</td>\n",
       "      <td>69.348</td>\n",
       "      <td>69.987</td>\n",
       "    </tr>\n",
       "  </tbody>\n",
       "</table>\n",
       "</div>"
      ],
      "text/plain": [
       "                                                   1D      5D     10D     21D\n",
       "Ann. alpha                                      1.331   1.285   1.302   1.294\n",
       "beta                                            0.019  -0.012  -0.048  -0.072\n",
       "Mean Period Wise Return Top Quantile (bps)     34.607  34.331  34.611  34.830\n",
       "Mean Period Wise Return Bottom Quantile (bps) -35.210 -33.878 -34.723 -35.133\n",
       "Mean Period Wise Spread (bps)                  69.817  68.220  69.348  69.987"
      ]
     },
     "metadata": {},
     "output_type": "display_data"
    },
    {
     "name": "stdout",
     "output_type": "stream",
     "text": [
      "Information Analysis\n"
     ]
    },
    {
     "data": {
      "text/html": [
       "<div>\n",
       "<style scoped>\n",
       "    .dataframe tbody tr th:only-of-type {\n",
       "        vertical-align: middle;\n",
       "    }\n",
       "\n",
       "    .dataframe tbody tr th {\n",
       "        vertical-align: top;\n",
       "    }\n",
       "\n",
       "    .dataframe thead th {\n",
       "        text-align: right;\n",
       "    }\n",
       "</style>\n",
       "<table border=\"1\" class=\"dataframe\">\n",
       "  <thead>\n",
       "    <tr style=\"text-align: right;\">\n",
       "      <th></th>\n",
       "      <th>1D</th>\n",
       "      <th>5D</th>\n",
       "      <th>10D</th>\n",
       "      <th>21D</th>\n",
       "    </tr>\n",
       "  </thead>\n",
       "  <tbody>\n",
       "    <tr>\n",
       "      <th>IC Mean</th>\n",
       "      <td>0.152</td>\n",
       "      <td>0.349</td>\n",
       "      <td>0.512</td>\n",
       "      <td>0.775</td>\n",
       "    </tr>\n",
       "    <tr>\n",
       "      <th>IC Std.</th>\n",
       "      <td>0.149</td>\n",
       "      <td>0.150</td>\n",
       "      <td>0.144</td>\n",
       "      <td>0.127</td>\n",
       "    </tr>\n",
       "    <tr>\n",
       "      <th>Risk-Adjusted IC</th>\n",
       "      <td>1.015</td>\n",
       "      <td>2.319</td>\n",
       "      <td>3.569</td>\n",
       "      <td>6.120</td>\n",
       "    </tr>\n",
       "    <tr>\n",
       "      <th>t-stat(IC)</th>\n",
       "      <td>27.809</td>\n",
       "      <td>63.497</td>\n",
       "      <td>97.735</td>\n",
       "      <td>167.595</td>\n",
       "    </tr>\n",
       "    <tr>\n",
       "      <th>p-value(IC)</th>\n",
       "      <td>0.000</td>\n",
       "      <td>0.000</td>\n",
       "      <td>0.000</td>\n",
       "      <td>0.000</td>\n",
       "    </tr>\n",
       "    <tr>\n",
       "      <th>IC Skew</th>\n",
       "      <td>-0.188</td>\n",
       "      <td>-0.430</td>\n",
       "      <td>-0.587</td>\n",
       "      <td>-1.435</td>\n",
       "    </tr>\n",
       "    <tr>\n",
       "      <th>IC Kurtosis</th>\n",
       "      <td>0.310</td>\n",
       "      <td>0.377</td>\n",
       "      <td>0.401</td>\n",
       "      <td>3.110</td>\n",
       "    </tr>\n",
       "  </tbody>\n",
       "</table>\n",
       "</div>"
      ],
      "text/plain": [
       "                      1D      5D     10D      21D\n",
       "IC Mean            0.152   0.349   0.512    0.775\n",
       "IC Std.            0.149   0.150   0.144    0.127\n",
       "Risk-Adjusted IC   1.015   2.319   3.569    6.120\n",
       "t-stat(IC)        27.809  63.497  97.735  167.595\n",
       "p-value(IC)        0.000   0.000   0.000    0.000\n",
       "IC Skew           -0.188  -0.430  -0.587   -1.435\n",
       "IC Kurtosis        0.310   0.377   0.401    3.110"
      ]
     },
     "metadata": {},
     "output_type": "display_data"
    },
    {
     "name": "stdout",
     "output_type": "stream",
     "text": [
      "Turnover Analysis\n"
     ]
    },
    {
     "data": {
      "text/html": [
       "<div>\n",
       "<style scoped>\n",
       "    .dataframe tbody tr th:only-of-type {\n",
       "        vertical-align: middle;\n",
       "    }\n",
       "\n",
       "    .dataframe tbody tr th {\n",
       "        vertical-align: top;\n",
       "    }\n",
       "\n",
       "    .dataframe thead th {\n",
       "        text-align: right;\n",
       "    }\n",
       "</style>\n",
       "<table border=\"1\" class=\"dataframe\">\n",
       "  <thead>\n",
       "    <tr style=\"text-align: right;\">\n",
       "      <th></th>\n",
       "      <th>1D</th>\n",
       "      <th>5D</th>\n",
       "      <th>10D</th>\n",
       "      <th>21D</th>\n",
       "    </tr>\n",
       "  </thead>\n",
       "  <tbody>\n",
       "    <tr>\n",
       "      <th>Quantile 1 Mean Turnover</th>\n",
       "      <td>0.340</td>\n",
       "      <td>0.535</td>\n",
       "      <td>0.634</td>\n",
       "      <td>0.791</td>\n",
       "    </tr>\n",
       "    <tr>\n",
       "      <th>Quantile 2 Mean Turnover</th>\n",
       "      <td>0.603</td>\n",
       "      <td>0.725</td>\n",
       "      <td>0.762</td>\n",
       "      <td>0.800</td>\n",
       "    </tr>\n",
       "    <tr>\n",
       "      <th>Quantile 3 Mean Turnover</th>\n",
       "      <td>0.638</td>\n",
       "      <td>0.743</td>\n",
       "      <td>0.768</td>\n",
       "      <td>0.787</td>\n",
       "    </tr>\n",
       "    <tr>\n",
       "      <th>Quantile 4 Mean Turnover</th>\n",
       "      <td>0.602</td>\n",
       "      <td>0.726</td>\n",
       "      <td>0.765</td>\n",
       "      <td>0.798</td>\n",
       "    </tr>\n",
       "    <tr>\n",
       "      <th>Quantile 5 Mean Turnover</th>\n",
       "      <td>0.337</td>\n",
       "      <td>0.527</td>\n",
       "      <td>0.633</td>\n",
       "      <td>0.783</td>\n",
       "    </tr>\n",
       "  </tbody>\n",
       "</table>\n",
       "</div>"
      ],
      "text/plain": [
       "                              1D     5D    10D    21D\n",
       "Quantile 1 Mean Turnover   0.340  0.535  0.634  0.791\n",
       "Quantile 2 Mean Turnover   0.603  0.725  0.762  0.800\n",
       "Quantile 3 Mean Turnover   0.638  0.743  0.768  0.787\n",
       "Quantile 4 Mean Turnover   0.602  0.726  0.765  0.798\n",
       "Quantile 5 Mean Turnover   0.337  0.527  0.633  0.783"
      ]
     },
     "metadata": {},
     "output_type": "display_data"
    },
    {
     "data": {
      "text/html": [
       "<div>\n",
       "<style scoped>\n",
       "    .dataframe tbody tr th:only-of-type {\n",
       "        vertical-align: middle;\n",
       "    }\n",
       "\n",
       "    .dataframe tbody tr th {\n",
       "        vertical-align: top;\n",
       "    }\n",
       "\n",
       "    .dataframe thead th {\n",
       "        text-align: right;\n",
       "    }\n",
       "</style>\n",
       "<table border=\"1\" class=\"dataframe\">\n",
       "  <thead>\n",
       "    <tr style=\"text-align: right;\">\n",
       "      <th></th>\n",
       "      <th>1D</th>\n",
       "      <th>5D</th>\n",
       "      <th>10D</th>\n",
       "      <th>21D</th>\n",
       "    </tr>\n",
       "  </thead>\n",
       "  <tbody>\n",
       "    <tr>\n",
       "      <th>Mean Factor Rank Autocorrelation</th>\n",
       "      <td>0.767</td>\n",
       "      <td>0.488</td>\n",
       "      <td>0.309</td>\n",
       "      <td>-0.015</td>\n",
       "    </tr>\n",
       "  </tbody>\n",
       "</table>\n",
       "</div>"
      ],
      "text/plain": [
       "                                     1D     5D    10D    21D\n",
       "Mean Factor Rank Autocorrelation  0.767  0.488  0.309 -0.015"
      ]
     },
     "metadata": {},
     "output_type": "display_data"
    },
    {
     "data": {
      "text/plain": [
       "<Figure size 432x288 with 0 Axes>"
      ]
     },
     "metadata": {},
     "output_type": "display_data"
    },
    {
     "data": {
      "image/png": "[encoded data removed]",
      "text/plain": [
       "<Figure size 1008x7056 with 1 Axes>"
      ]
     },
     "metadata": {},
     "output_type": "display_data"
    }
   ],
   "source": [
    "tickers = lasso_factor.index.get_level_values('ticker').unique()\n",
    "lasso_factor_data = get_clean_factor_and_forward_returns(factor=lasso_factor, prices=df_last.tz_localize('UTC', level='date'), \n",
    "                                                         quantiles=5, periods=(1, 5, 10, 21))\n",
    "create_summary_tear_sheet(lasso_factor_data)"
   ]
  },
  {
   "cell_type": "markdown",
   "id": "8e0f6b0b-2570-4f27-b2b4-ca0f1cb34dba",
   "metadata": {},
   "source": [
    "So we can see that the predit result of the lasso regression has good linearity and the layered return rate is very obvious.\n",
    "\n",
    "We can hold the stocks that ranks in the top based on predicted return by lasso regression."
   ]
  },
  {
   "cell_type": "code",
   "execution_count": null,
   "id": "59f0d761-5b37-40d3-aabd-09c1d6712cb0",
   "metadata": {},
   "outputs": [],
   "source": []
  },
  {
   "cell_type": "code",
   "execution_count": null,
   "id": "3ecbcecb-cb19-4056-b890-99b1c939708e",
   "metadata": {},
   "outputs": [],
   "source": []
  },
  {
   "cell_type": "code",
   "execution_count": null,
   "id": "ed02b104-e408-449b-8771-bae954d41e4c",
   "metadata": {},
   "outputs": [],
   "source": []
  },
  {
   "cell_type": "code",
   "execution_count": null,
   "id": "dc4d6c65-88c2-4b75-838b-093b9661df20",
   "metadata": {},
   "outputs": [],
   "source": []
  },
  {
   "cell_type": "code",
   "execution_count": null,
   "id": "b36b6d56-99e9-4af8-b17b-868d3e3cfc89",
   "metadata": {},
   "outputs": [],
   "source": []
  },
  {
   "cell_type": "code",
   "execution_count": null,
   "id": "abe75fb9-78ec-4d56-ac3c-ee9f684eeb70",
   "metadata": {},
   "outputs": [],
   "source": []
  },
  {
   "cell_type": "code",
   "execution_count": null,
   "id": "4fd600fb-2331-4831-b8de-42f9b345b9e8",
   "metadata": {},
   "outputs": [],
   "source": []
  },
  {
   "cell_type": "code",
   "execution_count": null,
   "id": "c1c2eafc-8589-4512-841a-4d5839eb957c",
   "metadata": {},
   "outputs": [],
   "source": []
  }
 ],
 "metadata": {
  "kernelspec": {
   "display_name": "Python 3 (ipykernel)",
   "language": "python",
   "name": "python3"
  },
  "language_info": {
   "codemirror_mode": {
    "name": "ipython",
    "version": 3
   },
   "file_extension": ".py",
   "mimetype": "text/x-python",
   "name": "python",
   "nbconvert_exporter": "python",
   "pygments_lexer": "ipython3",
   "version": "3.10.2"
  }
 },
 "nbformat": 4,
 "nbformat_minor": 5
}
